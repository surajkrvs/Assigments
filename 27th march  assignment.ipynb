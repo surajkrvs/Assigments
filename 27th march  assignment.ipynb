{
 "cells": [
  {
   "cell_type": "markdown",
   "id": "16b3e1d0-3d0d-4287-ab80-33acba9b0a81",
   "metadata": {},
   "source": [
    "Q1. Explain the concept of R-squared in linear regression models. How is it calculated, and what does it\n",
    "represent?"
   ]
  },
  {
   "cell_type": "markdown",
   "id": "79a62cf0-7222-4347-aa4d-03babcd67054",
   "metadata": {},
   "source": [
    "R-squared is the way of checking accuracy of the model \n",
    "\n",
    "\n",
    "R squared =  1 - SSRes/SS Total\n",
    "\n",
    "SSRes(Sum of the square Residual(error))\n",
    "SSTotak(sum of square of total(Average of y in line))"
   ]
  },
  {
   "cell_type": "markdown",
   "id": "7a14263a-c877-4809-8ca3-e93051baf001",
   "metadata": {},
   "source": [
    "Q2. Define adjusted R-squared and explain how it differs from the regular R-squared."
   ]
  },
  {
   "cell_type": "markdown",
   "id": "1c0417b9-15bc-4293-9df1-a8bc22ef6a75",
   "metadata": {},
   "source": [
    "it is modified version of R- squared that has been adjusted for the number of predictors in the model.\n",
    "The adjusted R- squared increases when the new term improves the model more than would be expected by chance.it decreases when a prdictor improves the model by less than expected."
   ]
  },
  {
   "cell_type": "markdown",
   "id": "e050ffbb-6fd2-4888-bbeb-29605637f394",
   "metadata": {},
   "source": [
    "When is it more appropriate to use adjusted R-squared?"
   ]
  },
  {
   "cell_type": "markdown",
   "id": "a814da0f-a077-493a-831d-3c815f3e817e",
   "metadata": {},
   "source": [
    "when there are multiple variable in the regression model "
   ]
  },
  {
   "cell_type": "markdown",
   "id": "cbf782bf-0c15-487f-8f39-cc092cc311cf",
   "metadata": {},
   "source": [
    "Q4. What are RMSE, MSE, and MAE in the context of regression analysis? How are these metrics\n",
    "calculated, and what do they represent?"
   ]
  },
  {
   "cell_type": "markdown",
   "id": "515b4a50-f3d8-445c-a054-45090c4a7b7b",
   "metadata": {},
   "source": [
    "RMSE,MSE and MAE are method which is used to find the error in ML models\n",
    "MSE(Mean squared error) which is used to find the error in linear Regression\n",
    "RMSE(Root mean squared error) is root of mean squared error\n",
    "MAE(Mean absolute error) is used to robust to outlier and it will be in same unit"
   ]
  },
  {
   "cell_type": "markdown",
   "id": "b6c4caa8-9a44-4105-9ab9-dda1624f3b5c",
   "metadata": {},
   "source": [
    "Q5. Discuss the advantages and disadvantages of using RMSE, MSE, and MAE as evaluation metrics in\n",
    "regression analysis."
   ]
  },
  {
   "cell_type": "markdown",
   "id": "2b4a3a75-695c-4b3a-9d98-731e38f05d69",
   "metadata": {},
   "source": [
    "MSE; \n",
    "\n",
    "Advantages : \n",
    "   \n",
    "   1) equation is differenciable\n",
    "    \n",
    "    2) it has only ine local or global minima\n",
    "Disadvantages: \n",
    "    \n",
    "    1) Not Robust to outliers\n",
    "    \n",
    "    2) Not in the same unit\n",
    "    \n",
    "    \n",
    "    \n",
    "RMSE :\n",
    "\n",
    "Advantages:\n",
    "    \n",
    "    \n",
    "    1) same unit\n",
    "    \n",
    "    2) Differnciable\n",
    "    \n",
    "Disadvantages: \n",
    "    \n",
    "    1) NOt rebust to outliers\n",
    "    \n",
    "    \n",
    "MAE :\n",
    "\n",
    "    \n",
    "Advantages:\n",
    "    \n",
    "    1) Robust to outliers\n",
    "    \n",
    "    2) It will be in same unit\n",
    "    \n",
    "Disadvantages: \n",
    "    \n",
    "    1) Convergence usually takes more times"
   ]
  },
  {
   "cell_type": "code",
   "execution_count": null,
   "id": "a29dcd5a-9cdd-4f60-ab2d-8b1f1629e0f2",
   "metadata": {},
   "outputs": [],
   "source": []
  }
 ],
 "metadata": {
  "kernelspec": {
   "display_name": "Python 3 (ipykernel)",
   "language": "python",
   "name": "python3"
  },
  "language_info": {
   "codemirror_mode": {
    "name": "ipython",
    "version": 3
   },
   "file_extension": ".py",
   "mimetype": "text/x-python",
   "name": "python",
   "nbconvert_exporter": "python",
   "pygments_lexer": "ipython3",
   "version": "3.10.8"
  }
 },
 "nbformat": 4,
 "nbformat_minor": 5
}
