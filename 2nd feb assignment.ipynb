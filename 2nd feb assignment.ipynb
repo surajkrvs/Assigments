{
 "cells": [
  {
   "cell_type": "code",
   "execution_count": null,
   "id": "09de1ee7-8268-4720-b142-7057cb360cc2",
   "metadata": {},
   "outputs": [],
   "source": []
  },
  {
   "cell_type": "code",
   "execution_count": null,
   "id": "53f25de4-486d-485e-b7bb-0850fca44f92",
   "metadata": {},
   "outputs": [],
   "source": []
  },
  {
   "cell_type": "code",
   "execution_count": null,
   "id": "363507c7-8e63-4e7e-8920-963ff0398c2c",
   "metadata": {},
   "outputs": [],
   "source": []
  },
  {
   "cell_type": "code",
   "execution_count": null,
   "id": "6ae04723-4612-4cb7-8072-e24e527ea487",
   "metadata": {},
   "outputs": [],
   "source": []
  },
  {
   "cell_type": "code",
   "execution_count": null,
   "id": "2441a0e9-36d9-4711-8189-3302144836c4",
   "metadata": {},
   "outputs": [],
   "source": []
  },
  {
   "cell_type": "code",
   "execution_count": null,
   "id": "f6f881e1-e22b-40bc-bc3c-39b4d8c323ea",
   "metadata": {},
   "outputs": [],
   "source": []
  },
  {
   "cell_type": "code",
   "execution_count": null,
   "id": "5e197532-dc0d-42a8-9db5-90448846bbfb",
   "metadata": {},
   "outputs": [],
   "source": []
  },
  {
   "cell_type": "code",
   "execution_count": null,
   "id": "47c56e82-2929-4b30-92c0-05bf2b946707",
   "metadata": {},
   "outputs": [],
   "source": []
  },
  {
   "cell_type": "code",
   "execution_count": null,
   "id": "fac88410-645e-4454-a75e-ac5fabca3da0",
   "metadata": {},
   "outputs": [],
   "source": []
  },
  {
   "cell_type": "code",
   "execution_count": 1,
   "id": "c6b3cdb8-4f45-4a28-96af-e292b27bd590",
   "metadata": {},
   "outputs": [
    {
     "data": {
      "text/plain": [
       "'question no 2 '"
      ]
     },
     "execution_count": 1,
     "metadata": {},
     "output_type": "execute_result"
    }
   ],
   "source": [
    "\"question no 2 \""
   ]
  },
  {
   "cell_type": "code",
   "execution_count": 2,
   "id": "c1bb1429-431c-4ef4-ad57-e9789ffe4494",
   "metadata": {},
   "outputs": [],
   "source": [
    "l = [1,2,3,4,5,6,7,8,9,10]"
   ]
  },
  {
   "cell_type": "code",
   "execution_count": 5,
   "id": "6a3762e7-fe2c-4277-b828-a4c22e392177",
   "metadata": {},
   "outputs": [
    {
     "data": {
      "text/plain": [
       "55"
      ]
     },
     "execution_count": 5,
     "metadata": {},
     "output_type": "execute_result"
    }
   ],
   "source": [
    "result = 0\n",
    "for i in l:\n",
    "    result = result +i\n",
    "result"
   ]
  },
  {
   "cell_type": "code",
   "execution_count": 6,
   "id": "cd4f35cd-5a56-4830-9f7a-50a9a214b626",
   "metadata": {},
   "outputs": [
    {
     "data": {
      "text/plain": [
       "[1, 2, 3, 4, 5, 6, 7, 8, 9, 10]"
      ]
     },
     "execution_count": 6,
     "metadata": {},
     "output_type": "execute_result"
    }
   ],
   "source": [
    "l"
   ]
  },
  {
   "cell_type": "code",
   "execution_count": 13,
   "id": "f04068ac-0076-4c44-89db-ce57b21d03bf",
   "metadata": {},
   "outputs": [],
   "source": [
    "l1 = [1,2,3,4,5,6,7,8,9,10]"
   ]
  },
  {
   "cell_type": "code",
   "execution_count": 24,
   "id": "af9ca95e-0fa3-4b12-ac85-7f338168ea9d",
   "metadata": {},
   "outputs": [
    {
     "name": "stdout",
     "output_type": "stream",
     "text": [
      "Product:  1\n",
      "Product:  2\n",
      "Product:  6\n",
      "Product:  24\n",
      "Product:  120\n",
      "Product:  720\n",
      "Product:  5040\n",
      "Product:  40320\n",
      "Product:  362880\n",
      "Product:  3628800\n"
     ]
    }
   ],
   "source": [
    "product=1\n",
    "a=10\n",
    "for i in range(1,11):\n",
    "    product*=i\n",
    "    print(\"Product: \", product)"
   ]
  },
  {
   "cell_type": "code",
   "execution_count": 25,
   "id": "93ad97e2-b3ac-42cd-8fcd-7464ca5752d7",
   "metadata": {},
   "outputs": [
    {
     "data": {
      "text/plain": [
       "'question no 3'"
      ]
     },
     "execution_count": 25,
     "metadata": {},
     "output_type": "execute_result"
    }
   ],
   "source": [
    "\"question no 3\""
   ]
  },
  {
   "cell_type": "code",
   "execution_count": 68,
   "id": "c06bb748-5742-432e-a26f-f7ed73e0df0d",
   "metadata": {},
   "outputs": [
    {
     "name": "stdin",
     "output_type": "stream",
     "text": [
      "Enter your units 310\n"
     ]
    },
    {
     "name": "stdout",
     "output_type": "stream",
     "text": [
      "Your Electric bills 2250.0\n"
     ]
    }
   ],
   "source": [
    "unit = float(input(\"Enter your units\"))\n",
    "if  unit<=100:\n",
    "    payamount = unit*4.5\n",
    "    print(\"Your Electric bills\",payamount)\n",
    "elif unit>100 and unit <=200:\n",
    "      \n",
    "    \n",
    "    payamount = unit*6\n",
    "    print(\"Your Electric bills\",payamount)\n",
    "elif unit>200 and unit <=300:\n",
    "    \n",
    "    payamount = unit*10\n",
    "    print(\"Your Electric bills\",payamount)\n",
    "else : \n",
    "    unit-=300\n",
    "    payamount = (100*4.5)+(100*6)+(100*10)+unit*20\n",
    "    print(\"Your Electric bills\",payamount)"
   ]
  },
  {
   "cell_type": "code",
   "execution_count": 1,
   "id": "245a30ff-cc10-4ece-abf7-0d5dff78b9c2",
   "metadata": {},
   "outputs": [
    {
     "data": {
      "text/plain": [
       "'question no 4'"
      ]
     },
     "execution_count": 1,
     "metadata": {},
     "output_type": "execute_result"
    }
   ],
   "source": [
    "\"question no 4\""
   ]
  },
  {
   "cell_type": "code",
   "execution_count": 19,
   "id": "fc87b63c-ad12-45dd-9b59-df9ed08dfa11",
   "metadata": {},
   "outputs": [
    {
     "name": "stdout",
     "output_type": "stream",
     "text": [
      "New list of numbers [4, 5, 8, 10, 12, 15, 16, 20, 24, 25, 28, 30, 32, 35, 36, 40, 44, 45, 48, 50, 52, 55, 56, 60, 64, 65, 68, 70, 72, 75, 76, 80, 84, 85, 88, 90, 92, 95, 96, 100]\n"
     ]
    }
   ],
   "source": [
    "l = list(range(1,101))\n",
    "l1 = []\n",
    "\n",
    "for i in l:\n",
    "    if (i*3)%4==0 or (i*3)%5==0:\n",
    "        l1.append(i)\n",
    "    else:\n",
    "        pass\n",
    "print(\"New list of numbers\",l1)\n",
    "    \n",
    "    "
   ]
  },
  {
   "cell_type": "code",
   "execution_count": 22,
   "id": "9ed6b199-e8e5-4d7c-9395-efb0dba1046c",
   "metadata": {},
   "outputs": [
    {
     "name": "stdout",
     "output_type": "stream",
     "text": [
      "The new list of numbers:  [2, 4, 5, 6, 8, 10, 12, 14, 15, 16, 18, 20, 22, 24, 25, 26, 28, 30, 32, 34, 35, 36, 38, 40, 42, 44, 45, 46, 48, 50, 52, 54, 55, 56, 58, 60, 62, 64, 65, 66, 68, 70, 72, 74, 75, 76, 78, 80, 82, 84, 85, 86, 88, 90, 92, 94, 95, 96, 98, 100]\n"
     ]
    }
   ],
   "source": [
    "list(range(1,101))\n",
    "i=0\n",
    "l1=[]\n",
    "while i<len(l):\n",
    "    if (l[i]**3)%4==0 or (l[i]**3)%5==0:\n",
    "        l1.append(l[i])\n",
    "    i+=1\n",
    "\n",
    "print(\"The new list of numbers: \",l1)"
   ]
  },
  {
   "cell_type": "code",
   "execution_count": 18,
   "id": "0bb94001-d157-46a0-bd9f-00fd2d9d865b",
   "metadata": {},
   "outputs": [
    {
     "data": {
      "text/plain": [
       "'Question no 5 '"
      ]
     },
     "execution_count": 18,
     "metadata": {},
     "output_type": "execute_result"
    }
   ],
   "source": [
    "\"Question no 5 \""
   ]
  },
  {
   "cell_type": "code",
   "execution_count": 15,
   "id": "abf7d8bd-a727-4296-8fbd-ef3fdf274f35",
   "metadata": {},
   "outputs": [],
   "source": [
    "s = \"I want to become a data scientist\""
   ]
  },
  {
   "cell_type": "code",
   "execution_count": 17,
   "id": "2fe01692-47b4-45d6-837d-0470080f6979",
   "metadata": {},
   "outputs": [
    {
     "data": {
      "text/plain": [
       "str"
      ]
     },
     "execution_count": 17,
     "metadata": {},
     "output_type": "execute_result"
    }
   ],
   "source": [
    "type(s)"
   ]
  },
  {
   "cell_type": "code",
   "execution_count": null,
   "id": "01faec49-91a1-44c8-b812-ce7ede9e50cd",
   "metadata": {},
   "outputs": [],
   "source": [
    "s = \"I want to become a data scientist\"\n",
    "h=[]\n",
    "for i in s:\n",
    "    if i.lower() in [\"a\",\"e\",\"i\",\"o\",\"u\"]:\n",
    "        f.append(i)\n",
    "print(\"vowels of given string\"\n",
    "    \n",
    "    "
   ]
  }
 ],
 "metadata": {
  "kernelspec": {
   "display_name": "Python 3 (ipykernel)",
   "language": "python",
   "name": "python3"
  },
  "language_info": {
   "codemirror_mode": {
    "name": "ipython",
    "version": 3
   },
   "file_extension": ".py",
   "mimetype": "text/x-python",
   "name": "python",
   "nbconvert_exporter": "python",
   "pygments_lexer": "ipython3",
   "version": "3.10.8"
  }
 },
 "nbformat": 4,
 "nbformat_minor": 5
}
