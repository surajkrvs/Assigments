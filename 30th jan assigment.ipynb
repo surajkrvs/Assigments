{
 "cells": [
  {
   "cell_type": "code",
   "execution_count": 10,
   "id": "18886f06-6a9a-428e-8c19-16a370dee760",
   "metadata": {},
   "outputs": [],
   "source": [
    "Assigment = \"Question No : 1 \""
   ]
  },
  {
   "cell_type": "code",
   "execution_count": 6,
   "id": "f2ee4386-4946-48bf-abd2-9d9335ae51ab",
   "metadata": {},
   "outputs": [
    {
     "name": "stdin",
     "output_type": "stream",
     "text": [
      "Enter your marks 24\n"
     ]
    },
    {
     "name": "stdout",
     "output_type": "stream",
     "text": [
      "Grade D\n"
     ]
    }
   ],
   "source": [
    "marks = int(input(\"Enter your marks\"))\n",
    "if   marks>90:\n",
    "    print(\"Grade A\")\n",
    "elif marks>80 and marks<=90:\n",
    "    print(\"Grade B\")\n",
    "elif marks>=60 and marks<=80:\n",
    "    print(\"Grade C\")\n",
    "else: print(\"Grade D\")"
   ]
  },
  {
   "cell_type": "code",
   "execution_count": 7,
   "id": "7fe478b0-0c68-4377-be95-12d7cf2bf00e",
   "metadata": {},
   "outputs": [
    {
     "name": "stdin",
     "output_type": "stream",
     "text": [
      "Enter your marks 64\n"
     ]
    },
    {
     "name": "stdout",
     "output_type": "stream",
     "text": [
      "Grade C\n"
     ]
    }
   ],
   "source": [
    "marks = int(input(\"Enter your marks\"))\n",
    "if   marks>90:\n",
    "    print(\"Grade A\")\n",
    "elif marks>80 and marks<=90:\n",
    "    print(\"Grade B\")\n",
    "elif marks>=60 and marks<=80:\n",
    "    print(\"Grade C\")\n",
    "else: print(\"Grade D\")"
   ]
  },
  {
   "cell_type": "code",
   "execution_count": 8,
   "id": "4df74ced-5e79-46bb-b9c1-8afac0dbc0b9",
   "metadata": {},
   "outputs": [
    {
     "name": "stdin",
     "output_type": "stream",
     "text": [
      "Enter your marks 99\n"
     ]
    },
    {
     "name": "stdout",
     "output_type": "stream",
     "text": [
      "Grade A\n"
     ]
    }
   ],
   "source": [
    "marks = int(input(\"Enter your marks\"))\n",
    "if   marks>90:\n",
    "    print(\"Grade A\")\n",
    "elif marks>80 and marks<=90:\n",
    "    print(\"Grade B\")\n",
    "elif marks>=60 and marks<=80:\n",
    "    print(\"Grade C\")\n",
    "else: print(\"Grade D\")"
   ]
  },
  {
   "cell_type": "code",
   "execution_count": 12,
   "id": "03630234-e9ce-4597-b4a1-720843e5d91b",
   "metadata": {},
   "outputs": [
    {
     "name": "stdin",
     "output_type": "stream",
     "text": [
      "Enter your marks 85\n"
     ]
    },
    {
     "name": "stdout",
     "output_type": "stream",
     "text": [
      "Grade B\n"
     ]
    }
   ],
   "source": [
    "marks = int(input(\"Enter your marks\"))\n",
    "if   marks>90:\n",
    "    print(\"Grade A\")\n",
    "elif marks>80 and marks<=90:\n",
    "    print(\"Grade B\")\n",
    "elif marks>=60 and marks<=80:\n",
    "    print(\"Grade C\")\n",
    "else: print(\"Grade D\")"
   ]
  },
  {
   "cell_type": "code",
   "execution_count": 13,
   "id": "97c0ecbd-507b-4979-a451-258017cc932f",
   "metadata": {},
   "outputs": [],
   "source": [
    "Assigment = \"Question No : 2 \""
   ]
  },
  {
   "cell_type": "code",
   "execution_count": 15,
   "id": "2d288747-9d01-4eae-9297-21a5bfcb1816",
   "metadata": {},
   "outputs": [
    {
     "name": "stdin",
     "output_type": "stream",
     "text": [
      "Cost price of Bike (in Rs) 544444\n"
     ]
    },
    {
     "name": "stdout",
     "output_type": "stream",
     "text": [
      "Tax 15%\n"
     ]
    }
   ],
   "source": [
    "Price = int(input(\"Cost price of Bike (in Rs)\"))\n",
    "if   Price>100000:\n",
    "    print(\"Tax 15%\")\n",
    "elif Price>50000 and Price<=100000:\n",
    "    print(\"Tax 10%\")\n",
    "elif Price<=50000:\n",
    "    print(\"Tax 5%\")"
   ]
  },
  {
   "cell_type": "code",
   "execution_count": 16,
   "id": "b7c84e5e-5e00-4eb2-a160-8af74291415d",
   "metadata": {},
   "outputs": [
    {
     "name": "stdin",
     "output_type": "stream",
     "text": [
      "Cost price of Bike (in Rs) 24888\n"
     ]
    },
    {
     "name": "stdout",
     "output_type": "stream",
     "text": [
      "Tax 5%\n"
     ]
    }
   ],
   "source": [
    "Price = int(input(\"Cost price of Bike (in Rs)\"))\n",
    "if   Price>100000:\n",
    "    print(\"Tax 15%\")\n",
    "elif Price>50000 and Price<=100000:\n",
    "    print(\"Tax 10%\")\n",
    "elif Price<=50000:\n",
    "    print(\"Tax 5%\")"
   ]
  },
  {
   "cell_type": "code",
   "execution_count": 17,
   "id": "8cba7332-f106-4cc3-9342-f17db31d7d6d",
   "metadata": {},
   "outputs": [
    {
     "name": "stdin",
     "output_type": "stream",
     "text": [
      "Cost price of Bike (in Rs) 98000\n"
     ]
    },
    {
     "name": "stdout",
     "output_type": "stream",
     "text": [
      "Tax 10%\n"
     ]
    }
   ],
   "source": [
    "Price = int(input(\"Cost price of Bike (in Rs)\"))\n",
    "if   Price>100000:\n",
    "    print(\"Tax 15%\")\n",
    "elif Price>50000 and Price<=100000:\n",
    "    print(\"Tax 10%\")\n",
    "elif Price<=50000:\n",
    "    print(\"Tax 5%\")"
   ]
  },
  {
   "cell_type": "code",
   "execution_count": 30,
   "id": "fe60accd-8764-4eff-91f0-900068021f54",
   "metadata": {},
   "outputs": [],
   "source": [
    "Assigment = \"Question No : 3\""
   ]
  },
  {
   "cell_type": "code",
   "execution_count": 34,
   "id": "2a118b26-d82c-4213-b47f-a0bd551a8deb",
   "metadata": {},
   "outputs": [
    {
     "name": "stdin",
     "output_type": "stream",
     "text": [
      "Name of city Delhi\n"
     ]
    },
    {
     "name": "stdout",
     "output_type": "stream",
     "text": [
      "Monument : = Red Fort\n"
     ]
    }
   ],
   "source": [
    "Monument = input(\"Name of city\")\n",
    "if   City := \"Delhi\":\n",
    "    print(\"Monument : = Red Fort\")\n",
    "elif City := \"Agra\":\n",
    "    print(\"Monument : = Taj Mahal\")\n",
    "elif City := \"Jaipur\":\n",
    "    print(\"Monument : = Jal MAhal\")"
   ]
  },
  {
   "cell_type": "code",
   "execution_count": 35,
   "id": "6f5fb019-3111-4d8a-8ae6-5bbad92157e4",
   "metadata": {},
   "outputs": [],
   "source": [
    "Assigment = \"Question No : 4\""
   ]
  },
  {
   "cell_type": "code",
   "execution_count": 43,
   "id": "cf970cd8-2cf7-42bd-83eb-66ab0543a340",
   "metadata": {},
   "outputs": [
    {
     "name": "stdin",
     "output_type": "stream",
     "text": [
      "Number 56\n"
     ]
    },
    {
     "name": "stdout",
     "output_type": "stream",
     "text": [
      "No\n"
     ]
    }
   ],
   "source": [
    "n= input(\"Number\")\n",
    "\n",
    "if int(n)%3==0:\n",
    "  print(\"Yes\")\n",
    "else:\n",
    "  print(\"No\")\n",
    "    "
   ]
  },
  {
   "cell_type": "code",
   "execution_count": 44,
   "id": "c5c72f26-50ea-4f50-9b12-72571a225e27",
   "metadata": {},
   "outputs": [],
   "source": [
    "Assigment = \"Question No : 5\""
   ]
  },
  {
   "cell_type": "code",
   "execution_count": 46,
   "id": "bde0877c-4290-47fa-917f-acb4813658a4",
   "metadata": {},
   "outputs": [
    {
     "data": {
      "text/plain": [
       "'The while loop in Python is used to execute a set of statements repeatedly as long as the condition specified in the loop header remains true.'"
      ]
     },
     "execution_count": 46,
     "metadata": {},
     "output_type": "execute_result"
    }
   ],
   "source": [
    "\"The while loop in Python is used to execute a set of statements repeatedly as long as the condition specified in the loop header remains true.\""
   ]
  },
  {
   "cell_type": "code",
   "execution_count": 50,
   "id": "1659f733-2905-46e4-867f-78c4f0097663",
   "metadata": {},
   "outputs": [
    {
     "name": "stdout",
     "output_type": "stream",
     "text": [
      "1\n",
      "2\n",
      "3\n",
      "4\n",
      "5\n",
      "6\n",
      "7\n",
      "8\n",
      "9\n",
      "10\n"
     ]
    }
   ],
   "source": [
    "i = 1\n",
    "n = 10\n",
    "while i <= n:\n",
    "    print(i)\n",
    "    i = i + 1\n"
   ]
  },
  {
   "cell_type": "code",
   "execution_count": 51,
   "id": "362569e7-b0eb-4768-8239-ce23045c02cf",
   "metadata": {},
   "outputs": [],
   "source": [
    "Assigment = \"Question No : 6\""
   ]
  },
  {
   "cell_type": "code",
   "execution_count": 53,
   "id": "bae8fcdc-bae1-4ddb-81c6-8ca45379626d",
   "metadata": {},
   "outputs": [
    {
     "name": "stdout",
     "output_type": "stream",
     "text": [
      "1 \n",
      "1 2 \n",
      "1 2 3 \n",
      "1 2 3 4 \n",
      "1 2 3 4 5 \n"
     ]
    }
   ],
   "source": [
    "i=1\n",
    "while i<=5:\n",
    "    j=1\n",
    "    while j<=i:\n",
    "        print(j,end=\" \")\n",
    "        j=j+1\n",
    "    print(\"\")\n",
    "    i=i+1"
   ]
  },
  {
   "cell_type": "code",
   "execution_count": 54,
   "id": "76ace3c7-6e09-4c4c-a839-a0647c1294f2",
   "metadata": {},
   "outputs": [],
   "source": [
    "Assigment = \"Question No : 7\""
   ]
  },
  {
   "cell_type": "code",
   "execution_count": null,
   "id": "bf7a23cf-2808-40c4-9fd1-c68605321464",
   "metadata": {},
   "outputs": [],
   "source": []
  }
 ],
 "metadata": {
  "kernelspec": {
   "display_name": "Python 3 (ipykernel)",
   "language": "python",
   "name": "python3"
  },
  "language_info": {
   "codemirror_mode": {
    "name": "ipython",
    "version": 3
   },
   "file_extension": ".py",
   "mimetype": "text/x-python",
   "name": "python",
   "nbconvert_exporter": "python",
   "pygments_lexer": "ipython3",
   "version": "3.10.8"
  }
 },
 "nbformat": 4,
 "nbformat_minor": 5
}
