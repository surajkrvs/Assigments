{
 "cells": [
  {
   "cell_type": "markdown",
   "id": "ee7e42bf-afb2-49d2-93db-fa2d19e0fcf2",
   "metadata": {},
   "source": [
    "Q1. What are the three measures of central tendency? \n"
   ]
  },
  {
   "cell_type": "markdown",
   "id": "bae77bf4-2f34-47ac-89a3-4df40a3be2e3",
   "metadata": {},
   "source": [
    "There are three measures of central tendency \n",
    "(i) Mean\n",
    "(ii) Median\n",
    "(iii) Mode"
   ]
  },
  {
   "cell_type": "markdown",
   "id": "753fe685-0002-4f54-92dd-c530f44f1851",
   "metadata": {},
   "source": [
    "Q2. What is the difference between the mean, median, and mode? How are they used to measure the  central tendency of a dataset? \n"
   ]
  },
  {
   "cell_type": "markdown",
   "id": "6ea27cb1-cdce-4173-92f4-f02c73c8e879",
   "metadata": {},
   "source": [
    "The mean, median, and mode are three measures of central tendency used to describe the typical value of a dataset. While they all provide an idea of where the data is centered, they differ in how they are calculated and what type of data they are best suited for.\n",
    "\n",
    "The mean is the most commonly used measure of central tendency and is the sum of all the values in the dataset divided by the total number of values\n",
    "\n",
    "\n",
    "The median is the middle value in a dataset when the values are arranged in numerical order\n",
    "\n",
    "The mode is useful for describing the most common value in a dataset, and it is best suited for datasets with discrete or categorical values"
   ]
  },
  {
   "cell_type": "markdown",
   "id": "105f006e-5c8e-46ef-9901-0ad09ea3d8d9",
   "metadata": {},
   "source": [
    "Q3. Measure the three measures of central tendency for the given height data:  [178,177,176,177,178.2,178,175,179,180,175,178.9,176.2,177,172.5,178,176.5] \n"
   ]
  },
  {
   "cell_type": "code",
   "execution_count": 3,
   "id": "732fa8ad-5372-42dd-90a3-58b67ab20ac8",
   "metadata": {},
   "outputs": [],
   "source": [
    "  df = [178,177,176,177,178.2,178,175,179,180,175,178.9,176.2,177,172.5,178,176.5] "
   ]
  },
  {
   "cell_type": "code",
   "execution_count": 4,
   "id": "0344e533-6dc4-459f-b0f2-e1a99fee084c",
   "metadata": {},
   "outputs": [
    {
     "data": {
      "text/plain": [
       "177.01875"
      ]
     },
     "execution_count": 4,
     "metadata": {},
     "output_type": "execute_result"
    }
   ],
   "source": [
    "import numpy as np\n",
    "np.mean(df)"
   ]
  },
  {
   "cell_type": "code",
   "execution_count": 5,
   "id": "bb8fa8f8-0cb9-4bb4-b7bd-bd6c646c0851",
   "metadata": {},
   "outputs": [
    {
     "data": {
      "text/plain": [
       "177.0"
      ]
     },
     "execution_count": 5,
     "metadata": {},
     "output_type": "execute_result"
    }
   ],
   "source": [
    "np.median(df)"
   ]
  },
  {
   "cell_type": "code",
   "execution_count": 8,
   "id": "9dc61162-e2ef-4047-8cf2-c46186b89c6b",
   "metadata": {},
   "outputs": [
    {
     "name": "stderr",
     "output_type": "stream",
     "text": [
      "/tmp/ipykernel_195/4057379663.py:2: FutureWarning: Unlike other reduction functions (e.g. `skew`, `kurtosis`), the default behavior of `mode` typically preserves the axis it acts along. In SciPy 1.11.0, this behavior will change: the default value of `keepdims` will become False, the `axis` over which the statistic is taken will be eliminated, and the value None will no longer be accepted. Set `keepdims` to True or False to avoid this warning.\n",
      "  stats.mode(df)\n"
     ]
    },
    {
     "data": {
      "text/plain": [
       "ModeResult(mode=array([177.]), count=array([3]))"
      ]
     },
     "execution_count": 8,
     "metadata": {},
     "output_type": "execute_result"
    }
   ],
   "source": [
    "from scipy import stats\n",
    "stats.mode(df)"
   ]
  },
  {
   "cell_type": "markdown",
   "id": "7321c2db-db03-411a-83f9-3cedde7f2ac2",
   "metadata": {},
   "source": [
    "Q4. Find the standard deviation for the given data: \n"
   ]
  },
  {
   "cell_type": "code",
   "execution_count": 9,
   "id": "f418706d-fdd0-47bd-b4ff-ef4245956356",
   "metadata": {},
   "outputs": [
    {
     "data": {
      "text/plain": [
       "1.7885814036548633"
      ]
     },
     "execution_count": 9,
     "metadata": {},
     "output_type": "execute_result"
    }
   ],
   "source": [
    "df2 = [178,177,176,177,178.2,178,175,179,180,175,178.9,176.2,177,172.5,178,176.5] \n",
    "\n",
    "import numpy as np\n",
    "np.std(df2)\n"
   ]
  },
  {
   "cell_type": "markdown",
   "id": "138f46af-4108-4db9-a3b2-fd89bc5679ee",
   "metadata": {},
   "source": [
    "Q5. How are measures of dispersion such as range, variance, and standard deviation used to describe  the spread of a dataset? Provide an example. \n"
   ]
  },
  {
   "cell_type": "markdown",
   "id": "7ba2d27a-6a88-4341-b0bb-c3ace82913d5",
   "metadata": {},
   "source": [
    "Measures of dispersion are used to describe the spread of a dataset, indicating how far apart the data points are from each other. The three most common measures of dispersion are range, variance, and standard deviation.\n",
    "\n",
    "The range is the simplest measure of dispersion and is calculated as the difference between the maximum and minimum values in the dataset.\n",
    "\n",
    "Variance is a more precise measure of dispersion\n",
    "\n",
    "Standard deviation is the square root of the variance and is a widely used measure of dispersion. "
   ]
  },
  {
   "cell_type": "markdown",
   "id": "83379637-1d0d-408c-98f2-cccf10945144",
   "metadata": {},
   "source": [
    "Q6. What is a Venn diagram? "
   ]
  },
  {
   "cell_type": "markdown",
   "id": "2bbe671b-a20f-4f81-a241-801eb9bcc5e0",
   "metadata": {},
   "source": [
    "A Venn diagram is a graphical representation of the relationships between different sets of data or objects. "
   ]
  },
  {
   "cell_type": "markdown",
   "id": "f79e632a-297a-4c48-b19f-3b35c530bc84",
   "metadata": {},
   "source": [
    "Q7. For the two given sets A = (2,3,4,5,6,7) & B = (0,2,6,8,10). Find: "
   ]
  },
  {
   "cell_type": "markdown",
   "id": "92609743-db07-4b77-9f4c-9e425cc78928",
   "metadata": {},
   "source": [
    "AB = (2,6)\n",
    "A U B = (0,2,3,4,5,6,7,8,10)"
   ]
  },
  {
   "cell_type": "markdown",
   "id": "cc963e74-1a0f-416d-a957-4f69a92bf6f5",
   "metadata": {},
   "source": [
    "Q8. What do you understand about skewness in data? \n"
   ]
  },
  {
   "cell_type": "markdown",
   "id": "9a501810-9b2f-4c0a-ada4-60b3ed568658",
   "metadata": {},
   "source": [
    "Skewness in data refers to the degree of asymmetry or lack of symmetry in the distribution of data points. It indicates whether the data is skewed towards one end or the other, or if it is distributed evenly.\n",
    "\n"
   ]
  },
  {
   "cell_type": "markdown",
   "id": "da77b46f-d83f-4dfd-959c-eda575d37e42",
   "metadata": {},
   "source": [
    "Q9. If a data is right skewed then what will be the position of median with respect to mean? "
   ]
  },
  {
   "cell_type": "markdown",
   "id": "f73044c8-b02f-4f6a-9856-0d6085a7129f",
   "metadata": {},
   "source": [
    "If a dataset is right-skewed, it means that the tail of the distribution is longer on the right side, and the majority of the data is clustered towards the left side. In such cases, the mean is pulled towards the longer tail on the right side and is therefore greater than the median.\n",
    "\n"
   ]
  },
  {
   "cell_type": "markdown",
   "id": "1962383a-9dcd-46d6-bc07-7a8176de1e19",
   "metadata": {},
   "source": [
    "Q10. Explain the difference between covariance and correlation. How are these measures used in  statistical analysis? \n"
   ]
  },
  {
   "cell_type": "markdown",
   "id": "93486c27-fd87-4507-8447-d20be958742e",
   "metadata": {},
   "source": [
    "Both covariance and correlation are used in statistical analysis to examine relationships between variables. They can help us to identify patterns and trends in the data and to make predictions about future behavior. However, it is important to note that correlation does not imply causation, and it is important to carefully interpret the results of any statistical analysis.\n",
    "\n",
    "\n",
    " covariance alone does not give us an idea of the strength or direction of the relationship between the variables. This is where correlation comes into play. Correlation is a standardized measure that indicates the strength and direction of the relationship between two variables. Correlation ranges from -1 to 1, where a correlation of -1 indicates a perfect negative relationship, a correlation of 0 indicates no relationship, and a correlation of 1 indicates a perfect positive relationship\n"
   ]
  },
  {
   "cell_type": "markdown",
   "id": "f761ec1a-3579-4c92-b499-dfe40ce102c9",
   "metadata": {},
   "source": [
    "Q11. What is the formula for calculating the sample mean? Provide an example calculation for a  dataset. \n"
   ]
  },
  {
   "cell_type": "markdown",
   "id": "8780c963-c542-4915-b769-7e8873c5067e",
   "metadata": {},
   "source": [
    "sample mean = (sum of all data points) / (number of data points)\n",
    "\n",
    "Example : {5, 10, 15, 20, 25}\n",
    "\n",
    "sample mean = (5+10+15+20+25)/5 = 75/5 = 15\n"
   ]
  },
  {
   "cell_type": "markdown",
   "id": "639b1718-2141-4722-b165-f3b249913c08",
   "metadata": {},
   "source": [
    "Q12. For a normal distribution data what is the relationship between its measure of central tendency?"
   ]
  },
  {
   "cell_type": "markdown",
   "id": "c75d15fd-49e4-48db-ae62-15c52b051275",
   "metadata": {},
   "source": [
    "In a normal distribution, the mean is calculated by adding up all the data points and dividing by the total number of data points. The median is the value that falls in the middle of the distribution when the data points are arranged in ascending or descending order. The mode is the most frequently occurring value in the distribution."
   ]
  },
  {
   "cell_type": "markdown",
   "id": "0009df0f-2790-4800-abd7-69aab46c1825",
   "metadata": {},
   "source": [
    "Q13. How is covariance different from correlation? \n"
   ]
  },
  {
   "cell_type": "markdown",
   "id": "4a825bd8-dea1-4b3d-99f2-eafd09177e00",
   "metadata": {},
   "source": [
    "Definition: Covariance is a measure of how two variables change together. It measures the degree to which the variables move in the same direction (positive covariance) or in opposite directions (negative covariance). Correlation, on the other hand, measures the strength and direction of the relationship between two variables. It ranges from -1 to 1, with -1 indicating a perfect negative relationship, 0 indicating no relationship, and 1 indicating a perfect positive relationship."
   ]
  },
  {
   "cell_type": "markdown",
   "id": "9ffdc9ee-9b80-4680-8901-e2cf1b8dfa86",
   "metadata": {},
   "source": [
    "Q14. How do outliers affect measures of central tendency and dispersion? Provide an example. \n"
   ]
  },
  {
   "cell_type": "code",
   "execution_count": null,
   "id": "1685fd11-4685-4544-bd02-951dc920b21d",
   "metadata": {},
   "outputs": [],
   "source": [
    "Outliers can affect measures of central tendency by pulling the value of the mean away from the bulk of the data, making it an inaccurate representation of the dataset. For example, if we have a dataset of test scores where all the scores are between 70 and 90, but there is one outlier score of 30, the mean will be significantly lower than the median or mode, which would better represent the central tendency of the data."
   ]
  }
 ],
 "metadata": {
  "kernelspec": {
   "display_name": "Python 3 (ipykernel)",
   "language": "python",
   "name": "python3"
  },
  "language_info": {
   "codemirror_mode": {
    "name": "ipython",
    "version": 3
   },
   "file_extension": ".py",
   "mimetype": "text/x-python",
   "name": "python",
   "nbconvert_exporter": "python",
   "pygments_lexer": "ipython3",
   "version": "3.10.8"
  }
 },
 "nbformat": 4,
 "nbformat_minor": 5
}
