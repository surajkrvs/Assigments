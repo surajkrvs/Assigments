{
 "cells": [
  {
   "cell_type": "markdown",
   "id": "1e949d91-d538-4a97-ab1a-23a05381bc91",
   "metadata": {},
   "source": [
    "Q1. What is the Probability density function? \n"
   ]
  },
  {
   "cell_type": "markdown",
   "id": "9333c099-a69d-4ef3-a79e-a6bde60ad020",
   "metadata": {},
   "source": [
    "Distribution of a continuous random variable"
   ]
  },
  {
   "cell_type": "markdown",
   "id": "cb7d0afe-1cc6-4aee-a94f-fea435df5494",
   "metadata": {},
   "source": [
    "Q2. What are the types of Probability distribution? \n"
   ]
  },
  {
   "cell_type": "markdown",
   "id": "470c4c68-db60-415b-9ea2-396ce794de1f",
   "metadata": {},
   "source": [
    "There are 6 types of PDF\n",
    "(i) Normal/Gaussian Surface Distribution\n",
    "(ii) Bernouli Distribution\n",
    "(iii) Uniform Distribution\n",
    "(iv) Binomial Distribution\n",
    "(v) Log Normal Distibution\n",
    "(vi) poision Distribution"
   ]
  },
  {
   "cell_type": "markdown",
   "id": "603b702e-6825-4c8d-bae2-cd59cd00ae6d",
   "metadata": {},
   "source": [
    "Q3. Write a Python function to calculate the probability density function of a normal distribution with  given mean and standard deviation at a given point. \n"
   ]
  },
  {
   "cell_type": "code",
   "execution_count": 3,
   "id": "a7d3e0a1-e590-4fb0-bd67-9daffdf67ad8",
   "metadata": {},
   "outputs": [],
   "source": [
    "import math\n",
    "def normal_pdf(x,mean,std_dev):\n",
    "    coefficient = 1 / (std_dev*math.sqrt(2*math.pi))\n",
    "    exponent = -((x - mean) ** 2) / (2*(std_dev**2))\n",
    "    pdf = coefficient * math.exp(exponent)\n",
    "    return pdf"
   ]
  },
  {
   "cell_type": "code",
   "execution_count": 5,
   "id": "b7f2c0d1-a0f7-4cfd-b3db-82928ff2f5b8",
   "metadata": {},
   "outputs": [
    {
     "name": "stdout",
     "output_type": "stream",
     "text": [
      "0.24197072451914337\n"
     ]
    }
   ],
   "source": [
    "mean = 0 \n",
    "std_dev = 1\n",
    "x = 1 \n",
    "\n",
    "pdf = normal_pdf(x,mean,std_dev)\n",
    "print(pdf)"
   ]
  },
  {
   "cell_type": "markdown",
   "id": "b6b90376-d245-4f42-bf80-8a7ade9d43b7",
   "metadata": {},
   "source": [
    "Q4. What are the properties of Binomial distribution? Give two examples of events where binomial  distribution can be applied. \n"
   ]
  },
  {
   "cell_type": "markdown",
   "id": "42b6f580-c4a2-46ac-9f96-4ef39348aca0",
   "metadata": {},
   "source": [
    "properties of binomial distribution\n",
    "The trials are independent.\n",
    "Each trial has only two possible outcomes, success or failure.\n",
    "The probability of success is constant for each trial.\n",
    "The number of trials is fixed.\n",
    "The random variable X, which represents the number of successes, follows a binomial distribution.\n",
    "\n",
    "Flipping a coin: Each flip is an independent trial with two possible outcomes (heads or tails), and assuming the coin is fair, the probability of success (getting heads) is 0.5 for each trial. The number of heads obtained in a fixed number of coin flips (e.g., 10 flips) follows a binomial distribution.\n",
    "\n",
    "\n",
    "Quality control in manufacturing: A manufacturer may randomly sample a fixed number of products from a production run and test them for defects. Each product can either pass or fail the test, and assuming the testing conditions are constant, the probability of passing is the same for each product. The number of products that pass the test in a fixed sample size follows a binomial distribution."
   ]
  },
  {
   "cell_type": "markdown",
   "id": "0a2dd639-a167-4c4e-abec-59774bbc593b",
   "metadata": {},
   "source": [
    "Q5. Generate a random sample of size 1000 from a binomial distribution with probability of success 0.4  and plot a histogram of the results using matplotlib. \n"
   ]
  },
  {
   "cell_type": "code",
   "execution_count": 10,
   "id": "4148cf3b-ceaf-4f55-9329-b8539c8e1154",
   "metadata": {},
   "outputs": [
    {
     "data": {
      "image/png": "[encoded data removed]",
      "text/plain": [
       "<Figure size 640x480 with 1 Axes>"
      ]
     },
     "metadata": {},
     "output_type": "display_data"
    }
   ],
   "source": [
    "import numpy as np\n",
    "import matplotlib.pyplot as plt\n",
    "n = 1000\n",
    "p = 0.4\n",
    "sample = np.random.binomial(n,p, size = 1000)\n",
    "plt.hist(sample, bins = 20, alpha = 0.5, edgecolor = 'black')\n",
    "plt.title('Binomial Distribution histogram')\n",
    "plt.xlabel('Number of Successes')\n",
    "plt.ylabel('Frequency')\n",
    "plt.show()"
   ]
  },
  {
   "cell_type": "markdown",
   "id": "1dc9b73f-ccc4-45fa-9b28-299ed2efbbd4",
   "metadata": {},
   "source": [
    "Q6. Write a Python function to calculate the cumulative distribution function of a Poisson distribution  with given mean at a given point. \n"
   ]
  },
  {
   "cell_type": "code",
   "execution_count": 12,
   "id": "de770053-7574-4cc1-bc07-5a1c046628c8",
   "metadata": {},
   "outputs": [],
   "source": [
    "import math\n",
    "\n",
    "def possion_cdf(x,mean):\n",
    "    cdf = 0 \n",
    "    for i in range(x+1):\n",
    "        cdf  = ((mean ** i) * math.exp(-mean)) / math.factorial(i)\n",
    "        return cdf"
   ]
  },
  {
   "cell_type": "code",
   "execution_count": 13,
   "id": "019c7401-e71b-4a3c-b35d-25d4b4f81f1e",
   "metadata": {},
   "outputs": [
    {
     "name": "stdout",
     "output_type": "stream",
     "text": [
      "0.049787068367863944\n"
     ]
    }
   ],
   "source": [
    "mean = 3\n",
    "x =2\n",
    "cdf = possion_cdf(x, mean)\n",
    "print(cdf)"
   ]
  },
  {
   "cell_type": "markdown",
   "id": "bad9ad50-9fde-4ffd-8fa5-8ee572cbee44",
   "metadata": {},
   "source": [
    "Q7. How Binomial distribution different from Poisson distribution? \n"
   ]
  },
  {
   "cell_type": "markdown",
   "id": "2956b0e2-e9c7-4d90-98b4-1429f980651c",
   "metadata": {},
   "source": [
    "The Binomial distribution is used to model the number of successes in a fixed number of independent trials, while the Poisson distribution is used to model the number of occurrences in a fixed interval of time or space"
   ]
  },
  {
   "cell_type": "markdown",
   "id": "5f143b8c-daeb-47c6-869e-fcb0052a7987",
   "metadata": {},
   "source": [
    "Q8. Generate a random sample of size 1000 from a Poisson distribution with mean 5 and calculate the  sample mean and variance. \n"
   ]
  },
  {
   "cell_type": "code",
   "execution_count": 14,
   "id": "fb9d6bda-178b-465c-989c-5fc972b66858",
   "metadata": {},
   "outputs": [
    {
     "name": "stdout",
     "output_type": "stream",
     "text": [
      "Sample mean: 5.026\n",
      "Sample variance: 5.096420420420421\n"
     ]
    }
   ],
   "source": [
    "import numpy as np\n",
    "\n",
    "mean = 5\n",
    "\n",
    "sample = np.random.poisson(mean, size=1000)\n",
    "\n",
    "sample_mean = np.mean(sample)\n",
    "sample_var = np.var(sample, ddof=1)\n",
    "\n",
    "print(\"Sample mean:\", sample_mean)\n",
    "print(\"Sample variance:\", sample_var)"
   ]
  },
  {
   "cell_type": "markdown",
   "id": "94acbeee-9e2b-4dc6-9289-24b68738eca6",
   "metadata": {},
   "source": [
    "Q9. How mean and variance are related in Binomial distribution and Poisson distribution? "
   ]
  },
  {
   "cell_type": "markdown",
   "id": "35ce6472-6c69-4f54-9750-3a86ea52de86",
   "metadata": {},
   "source": [
    "mean = n * p\n",
    "\n",
    "variance = n * p * (1 - p)\n",
    "\n",
    "where n is the number of trials and p is the probability of success for each trial.\n",
    "\n",
    "In the Poisson distribution, the mean (expected value) and variance are equal and are given by:\n",
    "\n",
    "mean = variance = λ\n",
    "\n",
    "where λ is the average rate of occurrences."
   ]
  },
  {
   "cell_type": "markdown",
   "id": "088273eb-9766-4d00-8e88-efbc93a41856",
   "metadata": {},
   "source": [
    "Q10. In normal distribution with respect to mean position, where does the least frequent data appear? "
   ]
  },
  {
   "cell_type": "markdown",
   "id": "aceca7cb-b16b-4834-9012-992d1845338b",
   "metadata": {},
   "source": [
    "In a normal distribution, the least frequent data appears in the tails, which are the regions of the distribution that are farthest from the mean. Specifically, the data that falls more than 2 standard deviations away from the mean is considered to be in the tails and is relatively rare.\n",
    "\n",
    "In a standard normal distribution (where the mean is 0 and the standard deviation is 1), the least frequent data appears in the tails beyond ±2 standard deviations from the mean. In a normal distribution with a different mean and standard deviation, the least frequent data will also appear in the tails beyond ±2 standard deviations from the mean, but the exact values of the upper and lower tails will depend on the specific parameters of the distribution."
   ]
  },
  {
   "cell_type": "code",
   "execution_count": null,
   "id": "e6b6dc1b-9cde-44af-ab44-c77700bb059c",
   "metadata": {},
   "outputs": [],
   "source": []
  }
 ],
 "metadata": {
  "kernelspec": {
   "display_name": "Python 3 (ipykernel)",
   "language": "python",
   "name": "python3"
  },
  "language_info": {
   "codemirror_mode": {
    "name": "ipython",
    "version": 3
   },
   "file_extension": ".py",
   "mimetype": "text/x-python",
   "name": "python",
   "nbconvert_exporter": "python",
   "pygments_lexer": "ipython3",
   "version": "3.10.8"
  }
 },
 "nbformat": 4,
 "nbformat_minor": 5
}
