{
 "cells": [
  {
   "cell_type": "markdown",
   "id": "f636ddd7-9ac5-46d3-b5c2-fe95ff667f07",
   "metadata": {},
   "source": [
    "#Question no 1 "
   ]
  },
  {
   "cell_type": "code",
   "execution_count": 1,
   "id": "1a6dba97-f438-4027-94a6-68f6f0b6443e",
   "metadata": {},
   "outputs": [],
   "source": [
    "import pandas as pd"
   ]
  },
  {
   "cell_type": "code",
   "execution_count": 2,
   "id": "bb83a72a-ca23-4c7a-b178-9bb4229af82f",
   "metadata": {},
   "outputs": [
    {
     "name": "stdout",
     "output_type": "stream",
     "text": [
      "Requirement already satisfied: pd in /opt/conda/lib/python3.10/site-packages (0.0.4)\n",
      "Note: you may need to restart the kernel to use updated packages.\n"
     ]
    }
   ],
   "source": [
    "pip install pd"
   ]
  },
  {
   "cell_type": "code",
   "execution_count": 17,
   "id": "57618f5a-6caa-48ff-8183-6566e47180a7",
   "metadata": {},
   "outputs": [],
   "source": [
    "l1 = ['4','8','15','16','23','42']"
   ]
  },
  {
   "cell_type": "code",
   "execution_count": 22,
   "id": "9ee73ca9-fdf2-4a25-9add-9a3bac876917",
   "metadata": {},
   "outputs": [
    {
     "name": "stdout",
     "output_type": "stream",
     "text": [
      "0     4\n",
      "1     8\n",
      "2    15\n",
      "3    16\n",
      "4    23\n",
      "5    42\n",
      "dtype: object\n"
     ]
    }
   ],
   "source": [
    "st = pd.Series(l1)\n",
    "print(st)"
   ]
  },
  {
   "cell_type": "markdown",
   "id": "05dd8a7c-69f7-4c5d-a45b-8982a3285a5d",
   "metadata": {},
   "source": [
    "#Question no 2"
   ]
  },
  {
   "cell_type": "code",
   "execution_count": 23,
   "id": "84c68a8c-d67a-49fb-974d-5608c820e907",
   "metadata": {},
   "outputs": [],
   "source": [
    "l2 = ['raghav' , 'shyam' , 'raju']"
   ]
  },
  {
   "cell_type": "code",
   "execution_count": 24,
   "id": "9a64a2ef-df67-4648-9ebd-887bc27431b6",
   "metadata": {},
   "outputs": [
    {
     "name": "stdout",
     "output_type": "stream",
     "text": [
      "0    raghav\n",
      "1     shyam\n",
      "2      raju\n",
      "dtype: object\n"
     ]
    }
   ],
   "source": [
    "variable = pd.Series(l2)\n",
    "print(variable)"
   ]
  },
  {
   "cell_type": "markdown",
   "id": "6b153ee3-ac80-4cb2-8e99-8dad6c415bd7",
   "metadata": {},
   "source": [
    "#Qustion 3"
   ]
  },
  {
   "cell_type": "code",
   "execution_count": 36,
   "id": "0ef2e5f2-b2a9-4ab1-a732-e6eaa34e0c9e",
   "metadata": {},
   "outputs": [],
   "source": [
    "import csv\n",
    "R =[ [\"Name\" , \"Age\" , \"Gender\"],\n",
    "     ['Alice', '25' , 'Female'],\n",
    "     ['Bob' , '30' , 'Male'],\n",
    "     ['Claire' '27', 'Female'],\n",
    "]"
   ]
  },
  {
   "cell_type": "code",
   "execution_count": 40,
   "id": "41c538d2-f6d8-4560-8434-67e2bc3593f7",
   "metadata": {},
   "outputs": [],
   "source": [
    "with open(\"datatype_csv\", \"w\" ) as f :\n",
    "    writer = csv.writer(f)\n",
    "    \n",
    "    for i in R:\n",
    "        writer.writerow(i)"
   ]
  },
  {
   "cell_type": "code",
   "execution_count": 42,
   "id": "ecaff2e6-b366-4dec-8654-1e966994b905",
   "metadata": {},
   "outputs": [],
   "source": [
    "dt = pd.read_csv(\"datatype_csv\")"
   ]
  },
  {
   "cell_type": "code",
   "execution_count": 43,
   "id": "5a886dca-8299-441a-bb0b-cb88106ca209",
   "metadata": {},
   "outputs": [
    {
     "data": {
      "text/html": [
       "<div>\n",
       "<style scoped>\n",
       "    .dataframe tbody tr th:only-of-type {\n",
       "        vertical-align: middle;\n",
       "    }\n",
       "\n",
       "    .dataframe tbody tr th {\n",
       "        vertical-align: top;\n",
       "    }\n",
       "\n",
       "    .dataframe thead th {\n",
       "        text-align: right;\n",
       "    }\n",
       "</style>\n",
       "<table border=\"1\" class=\"dataframe\">\n",
       "  <thead>\n",
       "    <tr style=\"text-align: right;\">\n",
       "      <th></th>\n",
       "      <th>Name</th>\n",
       "      <th>Age</th>\n",
       "      <th>Gender</th>\n",
       "    </tr>\n",
       "  </thead>\n",
       "  <tbody>\n",
       "    <tr>\n",
       "      <th>0</th>\n",
       "      <td>Alice</td>\n",
       "      <td>25</td>\n",
       "      <td>Female</td>\n",
       "    </tr>\n",
       "    <tr>\n",
       "      <th>1</th>\n",
       "      <td>Bob</td>\n",
       "      <td>30</td>\n",
       "      <td>Male</td>\n",
       "    </tr>\n",
       "    <tr>\n",
       "      <th>2</th>\n",
       "      <td>Claire27</td>\n",
       "      <td>Female</td>\n",
       "      <td>NaN</td>\n",
       "    </tr>\n",
       "  </tbody>\n",
       "</table>\n",
       "</div>"
      ],
      "text/plain": [
       "       Name     Age  Gender\n",
       "0     Alice      25  Female\n",
       "1       Bob      30    Male\n",
       "2  Claire27  Female     NaN"
      ]
     },
     "execution_count": 43,
     "metadata": {},
     "output_type": "execute_result"
    }
   ],
   "source": [
    "dt.head()"
   ]
  },
  {
   "cell_type": "markdown",
   "id": "4f315bb9-53a1-4331-a778-abc3bb5450bc",
   "metadata": {},
   "source": [
    "#Qustion 4"
   ]
  },
  {
   "cell_type": "markdown",
   "id": "d032e4b3-fa94-457b-a9c6-c58e6031e576",
   "metadata": {},
   "source": [
    "#\"Data frame is a structure way of data \"\n",
    "#\"Data frame is a two-dimensional structure with columns and rows whose size can be changed on the other hand The Series object provides encapsulation for each of the column data \""
   ]
  },
  {
   "cell_type": "markdown",
   "id": "d04669a1-a660-4009-95dc-cba6d13041bd",
   "metadata": {},
   "source": [
    "#Question no 5"
   ]
  },
  {
   "cell_type": "markdown",
   "id": "a27c2c51-f291-45a6-9ff6-2fdb49596da9",
   "metadata": {},
   "source": [
    "#functions are head , tail , columns "
   ]
  },
  {
   "cell_type": "code",
   "execution_count": 45,
   "id": "8c3699b8-2926-4049-a8b7-94b58a3981f9",
   "metadata": {},
   "outputs": [
    {
     "data": {
      "text/html": [
       "<div>\n",
       "<style scoped>\n",
       "    .dataframe tbody tr th:only-of-type {\n",
       "        vertical-align: middle;\n",
       "    }\n",
       "\n",
       "    .dataframe tbody tr th {\n",
       "        vertical-align: top;\n",
       "    }\n",
       "\n",
       "    .dataframe thead th {\n",
       "        text-align: right;\n",
       "    }\n",
       "</style>\n",
       "<table border=\"1\" class=\"dataframe\">\n",
       "  <thead>\n",
       "    <tr style=\"text-align: right;\">\n",
       "      <th></th>\n",
       "      <th>Name</th>\n",
       "      <th>Age</th>\n",
       "      <th>Gender</th>\n",
       "    </tr>\n",
       "  </thead>\n",
       "  <tbody>\n",
       "    <tr>\n",
       "      <th>1</th>\n",
       "      <td>Bob</td>\n",
       "      <td>30</td>\n",
       "      <td>Male</td>\n",
       "    </tr>\n",
       "    <tr>\n",
       "      <th>2</th>\n",
       "      <td>Claire27</td>\n",
       "      <td>Female</td>\n",
       "      <td>NaN</td>\n",
       "    </tr>\n",
       "  </tbody>\n",
       "</table>\n",
       "</div>"
      ],
      "text/plain": [
       "       Name     Age Gender\n",
       "1       Bob      30   Male\n",
       "2  Claire27  Female    NaN"
      ]
     },
     "execution_count": 45,
     "metadata": {},
     "output_type": "execute_result"
    }
   ],
   "source": [
    "dt.tail(2)"
   ]
  },
  {
   "cell_type": "code",
   "execution_count": 47,
   "id": "3f0f7049-6fb6-4aa8-8a00-06ee019ed969",
   "metadata": {},
   "outputs": [
    {
     "data": {
      "text/plain": [
       "Index(['Name', 'Age', 'Gender'], dtype='object')"
      ]
     },
     "execution_count": 47,
     "metadata": {},
     "output_type": "execute_result"
    }
   ],
   "source": [
    "dt.columns"
   ]
  },
  {
   "cell_type": "code",
   "execution_count": 48,
   "id": "0a88b0ac-0435-413f-941b-ee4c82f0c036",
   "metadata": {},
   "outputs": [
    {
     "data": {
      "text/html": [
       "<div>\n",
       "<style scoped>\n",
       "    .dataframe tbody tr th:only-of-type {\n",
       "        vertical-align: middle;\n",
       "    }\n",
       "\n",
       "    .dataframe tbody tr th {\n",
       "        vertical-align: top;\n",
       "    }\n",
       "\n",
       "    .dataframe thead th {\n",
       "        text-align: right;\n",
       "    }\n",
       "</style>\n",
       "<table border=\"1\" class=\"dataframe\">\n",
       "  <thead>\n",
       "    <tr style=\"text-align: right;\">\n",
       "      <th></th>\n",
       "      <th>Name</th>\n",
       "      <th>Age</th>\n",
       "      <th>Gender</th>\n",
       "    </tr>\n",
       "  </thead>\n",
       "  <tbody>\n",
       "    <tr>\n",
       "      <th>0</th>\n",
       "      <td>Alice</td>\n",
       "      <td>25</td>\n",
       "      <td>Female</td>\n",
       "    </tr>\n",
       "    <tr>\n",
       "      <th>1</th>\n",
       "      <td>Bob</td>\n",
       "      <td>30</td>\n",
       "      <td>Male</td>\n",
       "    </tr>\n",
       "    <tr>\n",
       "      <th>2</th>\n",
       "      <td>Claire27</td>\n",
       "      <td>Female</td>\n",
       "      <td>NaN</td>\n",
       "    </tr>\n",
       "  </tbody>\n",
       "</table>\n",
       "</div>"
      ],
      "text/plain": [
       "       Name     Age  Gender\n",
       "0     Alice      25  Female\n",
       "1       Bob      30    Male\n",
       "2  Claire27  Female     NaN"
      ]
     },
     "execution_count": 48,
     "metadata": {},
     "output_type": "execute_result"
    }
   ],
   "source": [
    "dt.head()"
   ]
  },
  {
   "cell_type": "markdown",
   "id": "7f5b2b9b-0342-4bc7-b60d-ef3ef828fcb5",
   "metadata": {},
   "source": [
    "#Question no 6"
   ]
  },
  {
   "cell_type": "markdown",
   "id": "b2ecc64d-5710-4d69-b177-cca446fd1d8b",
   "metadata": {},
   "source": [
    "#'Data frame is mutable in nature series"
   ]
  },
  {
   "cell_type": "markdown",
   "id": "0a737bba-bde7-45b8-8ab4-3fead20c54e9",
   "metadata": {},
   "source": [
    "#Question non 7"
   ]
  },
  {
   "cell_type": "code",
   "execution_count": 49,
   "id": "607df46b-3502-46fa-b793-9414bcc75f75",
   "metadata": {},
   "outputs": [],
   "source": [
    "import csv\n",
    "data = [ [\"name\" , \"email_id\" , \"phone\" ],\n",
    "         [\"suraj\", \"suraj@gmial.com\", 984561285],\n",
    "         [\"krish\", \"krish@gmial.com\" , 879456123],\n",
    "         [\"Ravi\" , \"ravi#gmial.com\" , 78456123085],\n",
    "         [\"sunil\" , \"sunil@gmail.com\", 79845612956],\n",
    "         [\"furw\" , \"fdjm#gmaiacom\" , 7984561235],\n",
    "         [\"hgb\" , \"etgfdetgfs@gmai.com\" ,9846512562]\n",
    "            \n",
    "]"
   ]
  },
  {
   "cell_type": "code",
   "execution_count": 50,
   "id": "1de4c786-0f51-4857-a0f2-e864610d7009",
   "metadata": {},
   "outputs": [],
   "source": [
    "with open(\"service.csv\", \"w\" ) as f :\n",
    "    writer = csv.writer(f)\n",
    "    \n",
    "    for i in data:\n",
    "        writer.writerow(i)"
   ]
  },
  {
   "cell_type": "code",
   "execution_count": null,
   "id": "58710337-7123-4ecc-80f6-7d0270de5547",
   "metadata": {},
   "outputs": [],
   "source": []
  }
 ],
 "metadata": {
  "kernelspec": {
   "display_name": "Python 3 (ipykernel)",
   "language": "python",
   "name": "python3"
  },
  "language_info": {
   "codemirror_mode": {
    "name": "ipython",
    "version": 3
   },
   "file_extension": ".py",
   "mimetype": "text/x-python",
   "name": "python",
   "nbconvert_exporter": "python",
   "pygments_lexer": "ipython3",
   "version": "3.10.8"
  }
 },
 "nbformat": 4,
 "nbformat_minor": 5
}
