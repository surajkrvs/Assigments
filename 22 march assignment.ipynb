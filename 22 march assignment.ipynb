{
 "cells": [
  {
   "cell_type": "markdown",
   "id": "a88b8cb7-1df2-436c-93e0-52afd0cb8b77",
   "metadata": {},
   "source": [
    "Q1. Pearson correlation coefficient is a measure of the linear relationship between two variables. Suppose\n",
    "you have collected data on the amount of time students spend studying for an exam and their final exam\n",
    "scores. Calculate the Pearson correlation coefficient between these two variables and interpret the result."
   ]
  },
  {
   "cell_type": "markdown",
   "id": "47a8e203-ca48-47bc-bde5-572de6e5d587",
   "metadata": {},
   "source": [
    "r = (n∑XY - ∑X∑Y) / sqrt([n∑X^2 - (∑X)^2][n∑Y^2 - (∑Y)^2])\n",
    "\n",
    " The value of r ranges from -1 to 1, with values close to -1 indicating a strong negative linear relationship, values close to 1 indicating a strong positive linear relationship, and a value of 0 indicating no linear relationship between the two variables.\n",
    "    \n",
    "    \n",
    "for example :  if the Pearson correlation coefficient for the amount of time students spend studying and their final exam scores is calculated to be 0.8, this suggests a strong positive linear relationship between the two variables."
   ]
  },
  {
   "cell_type": "markdown",
   "id": "42ade989-f5f7-467d-bb07-4a04108d7bfc",
   "metadata": {},
   "source": [
    "Q2. Spearman's rank correlation is a measure of the monotonic relationship between two variables.\n",
    "Suppose you have collected data on the amount of sleep individuals get each night and their overall job\n",
    "satisfaction level on a scale of 1 to 10. Calculate the Spearman's rank correlation between these two\n",
    "variables and interpret the result."
   ]
  },
  {
   "cell_type": "markdown",
   "id": "57b37926-dec4-4dd7-a5ea-8ef46dd41792",
   "metadata": {},
   "source": [
    "The formula for Spearman's rank correlation coefficient rs is:\n",
    "\n",
    "rs = 1 - (6Σd^2) / (n(n^2 - 1))\n",
    "where d is the difference between the ranks of the paired observations, Σ denotes the sum over all n observations.\n",
    "\n",
    "\n",
    "the Spearman's rank correlation coefficient also depends on the value obtained. The value of rs ranges from -1 to 1, with values close to -1 indicating a strong negative monotonic relationship, values close to 1 indicating a strong positive monotonic relationship, and a value of 0 indicating no monotonic relationship between the two variables.\n",
    "\n",
    "\n",
    "if the Spearman's rank correlation coefficient for the amount of sleep individuals get each night and their overall job satisfaction level is calculated to be 0.7, this suggests a strong positive monotonic relationship between the two variables."
   ]
  },
  {
   "cell_type": "markdown",
   "id": "8eeb9da5-4f6d-4d76-9015-c7435a2d02ff",
   "metadata": {},
   "source": [
    "Q3. Suppose you are conducting a study to examine the relationship between the number of hours of\n",
    "exercise per week and body mass index (BMI) in a sample of adults. You collected data on both variables\n",
    "for 50 participants. Calculate the Pearson correlation coefficient and the Spearman's rank correlation\n",
    "between these two variables and compare the results."
   ]
  },
  {
   "cell_type": "markdown",
   "id": "9546a245-45c2-4649-ae7a-508365ddd6dd",
   "metadata": {},
   "source": [
    "Once you have the paired observations, you can calculate the Pearson correlation coefficient using the formula provided in Q1. This will give you a measure of the linear relationship between the two variables. You can then calculate the Spearman's rank correlation coefficient by ranking the observations for each variable, as described in Q2, and using the formula provided.\n",
    "\n",
    "\n",
    "Comparing the results of the Pearson correlation coefficient and the Spearman's rank correlation coefficient can provide insight into the nature of the relationship between the two variables. If the Pearson correlation coefficient is substantially different from the Spearman's rank correlation coefficient, this suggests that the relationship is not strictly linear, and that there may be nonlinear or non-monotonic components to the relationship.\n",
    "\n"
   ]
  },
  {
   "cell_type": "code",
   "execution_count": null,
   "id": "61754cb2-c445-46c5-82bc-49f97de708f4",
   "metadata": {},
   "outputs": [],
   "source": []
  }
 ],
 "metadata": {
  "kernelspec": {
   "display_name": "Python 3 (ipykernel)",
   "language": "python",
   "name": "python3"
  },
  "language_info": {
   "codemirror_mode": {
    "name": "ipython",
    "version": 3
   },
   "file_extension": ".py",
   "mimetype": "text/x-python",
   "name": "python",
   "nbconvert_exporter": "python",
   "pygments_lexer": "ipython3",
   "version": "3.10.8"
  }
 },
 "nbformat": 4,
 "nbformat_minor": 5
}
