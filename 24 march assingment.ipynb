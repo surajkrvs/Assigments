{
 "cells": [
  {
   "cell_type": "markdown",
   "id": "f4ac77a2-b027-42b0-b244-807a862e2f23",
   "metadata": {},
   "source": [
    "Q1. What are the key features of the wine quality data set? Discuss the importance of each feature in\n",
    "predicting the quality of wine."
   ]
  },
  {
   "cell_type": "markdown",
   "id": "359aa497-899d-470e-8383-90acfc72899c",
   "metadata": {},
   "source": [
    "Each feature is important in predicting the quality of wine as they collectively affect the overall taste, aroma, and texture of the wine. For example, acidity and pH can significantly impact the wine's balance and taste, while alcohol and residual sugar can contribute to the wine's body and flavor.\n",
    "\n",
    "\n",
    "\n",
    "\n",
    "\n",
    "Fixed acidity - This feature represents the concentration of fixed acids in the wine. These acids are essential for wine taste and preservation.\n",
    "\n",
    "Volatile acidity - This feature represents the concentration of volatile acids in the wine, which can contribute to a sour, vinegar-like taste.\n",
    "\n",
    "Citric acid - This feature represents the concentration of citric acid in the wine, which can contribute to a fresh, fruity taste.\n",
    "\n",
    "Residual sugar - This feature represents the amount of sugar remaining in the wine after the fermentation process is complete. It can contribute to the sweetness of the wine.\n",
    "\n",
    "Chlorides - This feature represents the concentration of salt in the wine. Too much salt can make the wine taste salty and unappetizing.\n",
    "\n",
    "Free sulfur dioxide - This feature represents the amount of sulfur dioxide gas that is dissolved in the wine. It is used as a preservative and antioxidant.\n",
    "\n",
    "Total sulfur dioxide - This feature represents the total amount of sulfur dioxide (free and bound) in the wine.\n",
    "\n",
    "Density - This feature represents the density of the wine, which is related to its alcohol content.\n",
    "\n",
    "pH - This feature represents the acidity level of the wine. Wines with higher pH values are less acidic.\n",
    "\n",
    "Sulphates - This feature represents the concentration of sulphates in the wine. They are used as a preservative and can contribute to the wine's flavor.\n",
    "\n",
    "Alcohol - This feature represents the percentage of alcohol in the wine. It can contribute to the wine's body and flavor."
   ]
  },
  {
   "cell_type": "markdown",
   "id": "5b86ae37-18f3-449e-b446-18d801bccc97",
   "metadata": {},
   "source": [
    "Q2. How did you handle missing data in the wine quality data set during the feature engineering process?\n",
    "Discuss the advantages and disadvantages of different imputation techniques."
   ]
  },
  {
   "cell_type": "markdown",
   "id": "a20a48d8-e14b-4ff5-b8b9-76782f89c488",
   "metadata": {},
   "source": [
    "The choice of imputation technique depends on the nature of the missing data and the characteristics of the dataset. Mean and median imputation are simple and quick but may result in a loss of information. Regression and K-Nearest Neighbor imputation are more accurate but also more computationally expensive. Mode imputation is useful for categorical data but may not be suitable for continuous data."
   ]
  },
  {
   "cell_type": "markdown",
   "id": "37bcd23f-7389-437e-8f94-452afd2cca7a",
   "metadata": {},
   "source": [
    "Q3. What are the key factors that affect students' performance in exams? How would you go about\n",
    "analyzing these factors using statistical techniques?"
   ]
  },
  {
   "cell_type": "code",
   "execution_count": null,
   "id": "dee593be-c1b7-4dd0-ad00-9e69c197177a",
   "metadata": {},
   "outputs": [],
   "source": []
  }
 ],
 "metadata": {
  "kernelspec": {
   "display_name": "Python 3 (ipykernel)",
   "language": "python",
   "name": "python3"
  },
  "language_info": {
   "codemirror_mode": {
    "name": "ipython",
    "version": 3
   },
   "file_extension": ".py",
   "mimetype": "text/x-python",
   "name": "python",
   "nbconvert_exporter": "python",
   "pygments_lexer": "ipython3",
   "version": "3.10.8"
  }
 },
 "nbformat": 4,
 "nbformat_minor": 5
}
