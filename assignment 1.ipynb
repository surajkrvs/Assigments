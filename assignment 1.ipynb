{
 "cells": [
  {
   "cell_type": "code",
   "execution_count": 1,
   "id": "c8b12ced-4528-4dee-8194-b46d3f0a2ce8",
   "metadata": {},
   "outputs": [],
   "source": [
    "# create a python progream to sort the given list to tuples based on integer value using a lambda function.\n",
    "l1 = [('sachin tendulkar',34357),('ricky ponting',27483),(\"jack kalis\",25534), (\"virat kholi\", 24936)]"
   ]
  },
  {
   "cell_type": "code",
   "execution_count": 6,
   "id": "f3cfaf5a-039a-4774-8379-253a79a36021",
   "metadata": {},
   "outputs": [
    {
     "name": "stdout",
     "output_type": "stream",
     "text": [
      "[('virat kholi', 24936), ('jack kalis', 25534), ('ricky ponting', 27483), ('sachin tendulkar', 34357)]\n"
     ]
    }
   ],
   "source": [
    "l1.sort(key = lambda x : x[1])\n",
    "print(l1)"
   ]
  },
  {
   "cell_type": "code",
   "execution_count": 7,
   "id": "e2f4bfa0-5918-4c6c-961c-bc26538c71bd",
   "metadata": {},
   "outputs": [],
   "source": [
    "# write a python progrram to find the  squares of all the numbers in the given lost of integrs using lambda and map functions\n",
    "l1 = [1,2,3,4,5,6,7,8,9,10]"
   ]
  },
  {
   "cell_type": "code",
   "execution_count": 8,
   "id": "b75a823b-5576-4ca6-978b-1aea089554d9",
   "metadata": {},
   "outputs": [
    {
     "data": {
      "text/plain": [
       "[2, 4, 6, 8, 10, 12, 14, 16, 18, 20]"
      ]
     },
     "execution_count": 8,
     "metadata": {},
     "output_type": "execute_result"
    }
   ],
   "source": [
    "list(map(lambda x : x*2,l1))"
   ]
  },
  {
   "cell_type": "code",
   "execution_count": 9,
   "id": "1f36f3cd-7e9e-4642-bda7-8c4086ffb900",
   "metadata": {},
   "outputs": [],
   "source": [
    "#write a python program to convert the given list of integers ionto a tuple of strings , use map and lambda functions\n",
    "s = [1,2,3,4,5,6,7,8,9,10]\n",
    "#expected output:('1','2','3','4','5','6','7','8','9','10')"
   ]
  },
  {
   "cell_type": "code",
   "execution_count": 11,
   "id": "723fc9dd-17db-4da7-94ea-b7204d3b7a63",
   "metadata": {},
   "outputs": [
    {
     "data": {
      "text/plain": [
       "('1', '2', '3', '4', '5', '6', '7', '8', '9', '10')"
      ]
     },
     "execution_count": 11,
     "metadata": {},
     "output_type": "execute_result"
    }
   ],
   "source": [
    "tuple(map(lambda x : str(x),s))"
   ]
  },
  {
   "cell_type": "code",
   "execution_count": 12,
   "id": "c06559b0-3012-4dd5-b7e1-9c54a800ed08",
   "metadata": {},
   "outputs": [],
   "source": [
    "#write a python program using reduce functuon to compute the product of a list containing numbers from 1 to 25."
   ]
  },
  {
   "cell_type": "code",
   "execution_count": 14,
   "id": "b8629f55-17c1-4a75-933c-03ab2e4a9c8d",
   "metadata": {},
   "outputs": [
    {
     "data": {
      "text/plain": [
       "[1,\n",
       " 2,\n",
       " 3,\n",
       " 4,\n",
       " 5,\n",
       " 6,\n",
       " 7,\n",
       " 8,\n",
       " 9,\n",
       " 10,\n",
       " 11,\n",
       " 12,\n",
       " 13,\n",
       " 14,\n",
       " 15,\n",
       " 16,\n",
       " 17,\n",
       " 18,\n",
       " 19,\n",
       " 20,\n",
       " 21,\n",
       " 22,\n",
       " 23,\n",
       " 24,\n",
       " 25]"
      ]
     },
     "execution_count": 14,
     "metadata": {},
     "output_type": "execute_result"
    }
   ],
   "source": [
    "l1 = list(range(1,26))\n",
    "l1"
   ]
  },
  {
   "cell_type": "code",
   "execution_count": 20,
   "id": "08f08044-bd51-47f7-b22a-55affb150a8b",
   "metadata": {},
   "outputs": [
    {
     "data": {
      "text/plain": [
       "15511210043330985984000000"
      ]
     },
     "execution_count": 20,
     "metadata": {},
     "output_type": "execute_result"
    }
   ],
   "source": [
    "from functools import reduce\n",
    "reduce(lambda x,y : x*y , l1)"
   ]
  },
  {
   "cell_type": "code",
   "execution_count": 23,
   "id": "ce58f3f4-6392-4d15-bac3-17206f9f9c39",
   "metadata": {},
   "outputs": [],
   "source": [
    "#write a program to filter the number in a given list that are divisible by 2 and 3 using the filter function.\n",
    "l1 = [2,3,6,9,27,60,90,120,55,46]"
   ]
  },
  {
   "cell_type": "code",
   "execution_count": 24,
   "id": "07fd1640-471f-40d7-bbaa-101e8389770b",
   "metadata": {},
   "outputs": [
    {
     "data": {
      "text/plain": [
       "[2, 6, 60, 90, 120, 46]"
      ]
     },
     "execution_count": 24,
     "metadata": {},
     "output_type": "execute_result"
    }
   ],
   "source": [
    "list(filter(lambda x : x%2==0 & x%3==0 , l1))"
   ]
  },
  {
   "cell_type": "code",
   "execution_count": 25,
   "id": "29a6c795-f88f-47e9-b3c1-7c66fabb4ec3",
   "metadata": {},
   "outputs": [],
   "source": [
    "#write a program to find palindromes in the given kist of strings using lambda and filter function\n",
    "l1 = ['python','php','aba','radar','level']"
   ]
  },
  {
   "cell_type": "code",
   "execution_count": null,
   "id": "23e1c115-f796-48fe-8ae5-9c51efa045a2",
   "metadata": {},
   "outputs": [],
   "source": [
    "list(filter(lambda x: x == x[::-1] , l6))"
   ]
  }
 ],
 "metadata": {
  "kernelspec": {
   "display_name": "Python 3 (ipykernel)",
   "language": "python",
   "name": "python3"
  },
  "language_info": {
   "codemirror_mode": {
    "name": "ipython",
    "version": 3
   },
   "file_extension": ".py",
   "mimetype": "text/x-python",
   "name": "python",
   "nbconvert_exporter": "python",
   "pygments_lexer": "ipython3",
   "version": "3.10.8"
  }
 },
 "nbformat": 4,
 "nbformat_minor": 5
}
