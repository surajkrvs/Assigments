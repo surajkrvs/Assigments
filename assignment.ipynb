{
 "cells": [
  {
   "cell_type": "code",
   "execution_count": 4,
   "id": "2f9ca633-ba84-40c2-9f88-ba33052a0798",
   "metadata": {},
   "outputs": [],
   "source": [
    "#what is abstraction in oops?explain with an example"
   ]
  },
  {
   "cell_type": "markdown",
   "id": "b692fd7d-634e-47af-b19c-5f5d500de3fe",
   "metadata": {},
   "source": [
    "#abstraction is  programmer hides all but the relevant data about an object in order to reduce complexity and increase efficiency."
   ]
  },
  {
   "cell_type": "code",
   "execution_count": 5,
   "id": "86f93901-35b9-460d-ae6b-1865a9e32eea",
   "metadata": {},
   "outputs": [],
   "source": [
    "#differentiate between abstraction and encapsulation. explain with an examle"
   ]
  },
  {
   "cell_type": "markdown",
   "id": "038c776a-ed8e-49ac-a1c2-445450f34468",
   "metadata": {},
   "source": [
    "#Abstraction is a way of representing some specific data. Encapsulation is a way of hiding the complexity of something and exposing only the parts you wish to expose."
   ]
  },
  {
   "cell_type": "code",
   "execution_count": 6,
   "id": "33b7dfb1-c86b-47b9-9b65-2f60a410db38",
   "metadata": {},
   "outputs": [],
   "source": [
    "#what is abc module in python ? why is it used?"
   ]
  },
  {
   "cell_type": "code",
   "execution_count": null,
   "id": "c1ba6570-6ce2-4d4b-83f0-281a07f55556",
   "metadata": {},
   "outputs": [],
   "source": [
    "rovides the infrastructure for defining the base of Abstract Base Classes"
   ]
  }
 ],
 "metadata": {
  "kernelspec": {
   "display_name": "Python 3 (ipykernel)",
   "language": "python",
   "name": "python3"
  },
  "language_info": {
   "codemirror_mode": {
    "name": "ipython",
    "version": 3
   },
   "file_extension": ".py",
   "mimetype": "text/x-python",
   "name": "python",
   "nbconvert_exporter": "python",
   "pygments_lexer": "ipython3",
   "version": "3.10.8"
  }
 },
 "nbformat": 4,
 "nbformat_minor": 5
}
