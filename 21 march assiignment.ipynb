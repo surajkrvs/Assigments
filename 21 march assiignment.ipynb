{
 "cells": [
  {
   "cell_type": "markdown",
   "id": "68ac23d4-bec1-42a0-b0cd-6679910757ee",
   "metadata": {},
   "source": [
    "Q1. What is the difference between Ordinal Encoding and Label Encoding? Provide an example of when you\n",
    "might choose one over the other."
   ]
  },
  {
   "cell_type": "markdown",
   "id": "56d1357f-6311-41a5-9ecd-4a6c38b228aa",
   "metadata": {},
   "source": [
    "Ordinal Encoding is used for categorical data that have an inherent order or ranking, such as low, medium, and high, or cold, warm, and hot.\n",
    "\n",
    "\n",
    "Label Encoding is used for categorical data that do not have an inherent order or ranking, such as colors or countries. \n"
   ]
  },
  {
   "cell_type": "markdown",
   "id": "2b14af3b-e7a8-43b6-b463-1b88c274ba98",
   "metadata": {},
   "source": [
    "Q2. Explain how Target Guided Ordinal Encoding works and provide an example of when you might use it in\n",
    "a machine learning project."
   ]
  },
  {
   "cell_type": "markdown",
   "id": "a386958a-c777-41f2-a5e6-942308a3a0dd",
   "metadata": {},
   "source": [
    "Target Guided Ordinal Encoding is a technique used for encoding categorical variables based on the target variable in a supervised learning problem. This encoding technique creates a numerical representation of categorical data based on the mean of the target variable for each category.\n",
    "\n",
    "\n",
    "For example, let's say we have a categorical variable \"City\" with three categories: \"New York,\" \"San Francisco,\" and \"Los Angeles.\" We want to use Target Guided Ordinal Encoding to encode this variable based on the target variable, which is \"Sales.\" We first calculate the mean of the target variable for each category as follows:\n",
    "\n",
    "New York: mean Sales = $100,000\n",
    "San Francisco: mean Sales = $200,000\n",
    "Los Angeles: mean Sales = $50,000\n",
    "Next, we sort the categories based on their mean Sales in descending order, and assign a numerical value to each category based on its position in the sorted list:\n",
    "\n",
    "San Francisco: 3\n",
    "New York: 2\n",
    "Los Angeles: 1\n",
    "In this example, we assigned a higher numerical value to \"San Francisco\" since it has the highest mean Sales, followed by \"New York,\" and then \"Los Angeles.\""
   ]
  },
  {
   "cell_type": "markdown",
   "id": "1322254b-98b8-456e-a803-f966497694e1",
   "metadata": {},
   "source": [
    "Q3. For a dataset with the following categorical variables: Color (red, green, blue), Size (small, medium,\n",
    "large), and Material (wood, metal, plastic), perform label encoding using Python's scikit-learn library.\n",
    "Show your code and explain the output."
   ]
  },
  {
   "cell_type": "code",
   "execution_count": 1,
   "id": "7afed357-c7db-4a1a-b33b-6296e7f7bac3",
   "metadata": {},
   "outputs": [],
   "source": [
    "from sklearn.preprocessing import LabelEncoder"
   ]
  },
  {
   "cell_type": "code",
   "execution_count": 13,
   "id": "573f5408-ebbe-4dfd-be5a-4f3f40b41e6c",
   "metadata": {},
   "outputs": [],
   "source": [
    "import pandas as pd\n",
    "df = pd.DataFrame({'Color' : ['red', 'green', 'blue'],\n",
    "              'Size' : ['small', 'medium', 'large'],\n",
    "              'material' :['wood', 'metal', 'plastic']})"
   ]
  },
  {
   "cell_type": "code",
   "execution_count": 14,
   "id": "2e6dcb07-30a8-4058-ba29-89c99ecff28c",
   "metadata": {},
   "outputs": [],
   "source": [
    "label = LabelEncoder()"
   ]
  },
  {
   "cell_type": "code",
   "execution_count": 21,
   "id": "fedce410-8318-40b9-bc9b-cc601a06b49c",
   "metadata": {},
   "outputs": [
    {
     "name": "stdout",
     "output_type": "stream",
     "text": [
      "   Color  Size  material  color\n",
      "0    red     2         2      2\n",
      "1  green     1         0      1\n",
      "2   blue     0         1      0\n"
     ]
    }
   ],
   "source": [
    "df['color'] = label.fit_transform(df['Color'])\n",
    "df['Size'] = label.fit_transform(df['Size'])\n",
    "df['material'] = label.fit_transform(df['material'])\n",
    "print(df)"
   ]
  },
  {
   "cell_type": "markdown",
   "id": "f5e98334-e17e-4c06-b07a-a4dcce333b37",
   "metadata": {},
   "source": [
    "Q4. You are working on a machine learning project with a dataset containing several categorical\n",
    "variables, including \"Gender\" (Male/Female), \"Education Level\" (High School/Bachelor's/Master's/PhD),\n",
    "and \"Employment Status\" (Unemployed/Part-Time/Full-Time). Which encoding method would you use for\n",
    "each variable, and why?"
   ]
  },
  {
   "cell_type": "markdown",
   "id": "901680dc-0227-4ac0-9135-5695c5adf9cc",
   "metadata": {},
   "source": [
    "For gender: we can use only Binary Encoding\n",
    "For educatoion level : we can use odinal encoding\n",
    "for employment status : we can use one hot encoding"
   ]
  },
  {
   "cell_type": "markdown",
   "id": "54997388-bd81-4f47-838d-55a437a1264c",
   "metadata": {},
   "source": []
  },
  {
   "cell_type": "code",
   "execution_count": null,
   "id": "2b40e9a6-45e1-414c-9861-47bce60a2198",
   "metadata": {},
   "outputs": [],
   "source": []
  }
 ],
 "metadata": {
  "kernelspec": {
   "display_name": "Python 3 (ipykernel)",
   "language": "python",
   "name": "python3"
  },
  "language_info": {
   "codemirror_mode": {
    "name": "ipython",
    "version": 3
   },
   "file_extension": ".py",
   "mimetype": "text/x-python",
   "name": "python",
   "nbconvert_exporter": "python",
   "pygments_lexer": "ipython3",
   "version": "3.10.8"
  }
 },
 "nbformat": 4,
 "nbformat_minor": 5
}
