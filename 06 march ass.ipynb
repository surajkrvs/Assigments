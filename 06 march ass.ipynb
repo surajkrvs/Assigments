{
 "cells": [
  {
   "cell_type": "markdown",
   "id": "1f39be04-7b40-4a3d-9d35-7fc1c21cf338",
   "metadata": {},
   "source": [
    "Question no 1"
   ]
  },
  {
   "cell_type": "markdown",
   "id": "4448a903-75c1-498d-937b-020b049c51f1",
   "metadata": {},
   "source": [
    "statistics is the science of collecting, organizing and analyzing data."
   ]
  },
  {
   "cell_type": "markdown",
   "id": "b0a6b7fe-eee3-438c-90ae-9372e9eafd58",
   "metadata": {},
   "source": [
    "Question no 2 "
   ]
  },
  {
   "cell_type": "markdown",
   "id": "8f36f89c-abf2-44de-a702-17e914b6d374",
   "metadata": {},
   "source": [
    "Types of statistics \n",
    "(1) Descriptive Statistics : It consists of organizing and summarizing data. \n",
    "example : histogram, pdf, pmf\n",
    "(2) Inferantial Statistics : It consists of using data you have measured to form conclusion.\n",
    "Exapmle : hypothesis testing, h0,h1 value"
   ]
  },
  {
   "cell_type": "markdown",
   "id": "a7f9011f-aab2-49c9-9733-d71a24430481",
   "metadata": {},
   "source": [
    "Question no 3"
   ]
  },
  {
   "cell_type": "markdown",
   "id": "2f96126f-68d2-40f9-89ee-41cfee52efaf",
   "metadata": {},
   "source": [
    "Types of data :\n",
    "    (1) Nominal Scale Data(Categorical values , order does not matter)\n",
    "    Example :Fav Color \n",
    "            red = 5 \n",
    "            green = 10\n",
    "            orange = 6\n",
    "    (2) Ordinal Scale Data(Ranking is important, Order matter, Difference caonnot be measured)\n",
    "    Example : (i) good(ii) bad (iii) best\n",
    "    (3) Interval scale data : (Order matter, Difference can be measured, Ratio can't be measured, No true 'o' starting point)\n",
    "    Example : Temp Variable \n",
    "              30F\n",
    "              60F\n",
    "              90F\n",
    "              120F\n",
    "    (3) Ratio scale data (The order is matter, diff are measurable(including ratio), it contains '0' starting point)\n",
    "    Example : student marks inn a class 90,60,30,75,40,50\n",
    "                               accending order 30,40,50,60,75,90\n",
    "                               ratio : 90/30 = 3:1 it means someone got 3 times more marks than anyone"
   ]
  },
  {
   "cell_type": "markdown",
   "id": "85d37462-0c0b-45f8-b0a6-5fac3820ae51",
   "metadata": {},
   "source": [
    "Question no 4 "
   ]
  },
  {
   "cell_type": "markdown",
   "id": "fa6dbaba-192b-4127-94b9-fca8c58737e1",
   "metadata": {},
   "source": [
    "(i) Grading in exam: A+, A, B+, B, C+, C, D, E = Qualiative data\n",
    "(ii) Colour of mangoes: yellow, green, orange, red = Qualitative data\n",
    "(iii) Height data of a class: [178.9, 179, 179.5, 176, 177.2, 178.3, 175.8,...] = Quantitative data\n",
    "(iv) Number of mangoes exported by a farm: [500, 600, 478, 672, ...] = quantitative data"
   ]
  },
  {
   "cell_type": "markdown",
   "id": "d2268346-c340-49b4-8eca-87ed9e7ca8ec",
   "metadata": {},
   "source": [
    "Question no 5"
   ]
  },
  {
   "cell_type": "markdown",
   "id": "1517939d-43b2-4229-ad14-e0ecdb8b9d66",
   "metadata": {},
   "source": [
    "Nominal level of measurement: Examples of nominal variables include gender (male, female), marital status (married, single, divorced), and types of fruit (apple, orange, banana)\n",
    "Ordinal level of measurement:  Examples of ordinal variables include educational level (elementary, high school, college), job satisfaction (very dissatisfied, somewhat dissatisfied, neutral, somewhat satisfied, very satisfied), and military rank (private, corporal, sergeant, lieutenant, captain).\n",
    "Interval level of measurement: Examples of interval variables include temperature (measured in Celsius or Fahrenheit), calendar years (e.g. 2000, 2001, 2002), and IQ scores.\n",
    "Ratio level of measurement: Examples of ratio variables include height (measured in inches or centimeters), weight (measured in pounds or kilograms), and income (measured in dollars or euros)."
   ]
  },
  {
   "cell_type": "markdown",
   "id": "e6a3e305-608e-4ff6-9a98-c2fa1eb650ba",
   "metadata": {},
   "source": [
    "Question no 6  "
   ]
  },
  {
   "cell_type": "markdown",
   "id": "7a77c6ab-8249-45b5-9699-85f1927a2b4a",
   "metadata": {},
   "source": [
    "It is important to understand the level of measurement when analyzing data because it determines the types of statistical analyses that can be performed on the data\n",
    "For example, suppose you are analyzing the effectiveness of two different pain medications for treating a particular condition. You collect data on the number of days each patient takes to experience relief from their symptoms. If you treat this variable as a nominal variable and categorize the days into groups (e.g. 1-3 days, 4-6 days, etc.), you would not be able to use statistical methods that require interval or ratio level data. This would limit the types of analyses you could perform and may not provide you with an accurate understanding of the effectiveness of the medications.\n",
    "\n",
    "On the other hand, if you treat the number of days to relief as an interval or ratio variable, you could use more powerful statistical methods, such as t-tests or ANOVA, to analyze the data. This would allow you to more accurately compare the effectiveness of the two medications and draw meaningful conclusions."
   ]
  },
  {
   "cell_type": "markdown",
   "id": "be68d9ab-0747-4637-9023-a4bb06e151e1",
   "metadata": {},
   "source": [
    "Question no 7"
   ]
  },
  {
   "cell_type": "markdown",
   "id": "71a37aec-ff00-4c33-b3dc-69b213f868c7",
   "metadata": {},
   "source": [
    "Nominal and ordinal data types are different in terms of the level of measurement they represent. Nominal data is a categorical data type, whereas ordinal data is an ordered data type."
   ]
  },
  {
   "cell_type": "markdown",
   "id": "2a2e71d9-69e1-45a0-896e-846270839a3c",
   "metadata": {},
   "source": [
    "Question no 8 "
   ]
  },
  {
   "cell_type": "markdown",
   "id": "fc999b85-54f4-4160-be91-6403700a2a54",
   "metadata": {},
   "source": [
    "A box plot, also known as a box-and-whisker plot, can be used to display data in terms of range.\n",
    "\n"
   ]
  },
  {
   "cell_type": "markdown",
   "id": "ad8b4ffc-a51f-4739-96e8-b8dfbe418b67",
   "metadata": {},
   "source": [
    "Question  no 9 "
   ]
  },
  {
   "cell_type": "code",
   "execution_count": null,
   "id": "516cf02d-2719-4eb5-949a-b6af0ff73db7",
   "metadata": {},
   "outputs": [],
   "source": [
    "Descriptive statistics are used to give a clear picture of the data, allowing researchers to identify patterns and trends, and to communicate the results to others.\n",
    "Example: Suppose a researcher wants to describe the characteristics of a sample of 100 students in terms of their age, gender, and grade point average (GPA). Descriptive statistics could be used to calculate the mean age of the students, the proportion of males and females, and the average GPA of the group.\n",
    "\n",
    "Inferential statistics, on the other hand, are used to make inferences or predictions about a larger population based on a sample of data. \n",
    "Example: Suppose a researcher wants to investigate whether there is a relationship between age and GPA in a population of college students. The researcher could collect a sample of students and use inferential statistics to test whether there is a significant correlation between age and GPA. The results could then be used to make predictions about the relationship between age and GPA in the larger population of college students."
   ]
  }
 ],
 "metadata": {
  "kernelspec": {
   "display_name": "Python 3 (ipykernel)",
   "language": "python",
   "name": "python3"
  },
  "language_info": {
   "codemirror_mode": {
    "name": "ipython",
    "version": 3
   },
   "file_extension": ".py",
   "mimetype": "text/x-python",
   "name": "python",
   "nbconvert_exporter": "python",
   "pygments_lexer": "ipython3",
   "version": "3.10.8"
  }
 },
 "nbformat": 4,
 "nbformat_minor": 5
}
